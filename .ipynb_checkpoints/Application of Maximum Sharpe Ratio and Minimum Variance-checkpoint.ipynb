{
 "cells": [
  {
   "cell_type": "code",
   "execution_count": null,
   "id": "8b59b44c",
   "metadata": {},
   "outputs": [],
   "source": [
    "import pandas as pd\n",
    "import numpy as np\n",
    "import yfinance as yf\n",
    "from scipy.optimize import minimize\n",
    "from prettytable import PrettyTable\n",
    "from IPython.display import display"
   ]
  },
  {
   "cell_type": "code",
   "execution_count": null,
   "id": "39ec9e44",
   "metadata": {},
   "outputs": [],
   "source": [
    "tickers = [\"BHP.AX\", \"GOOGL\", \"AMZN\", \"WMT\", \"XOM\", \"BRK-A\", \"UNH\", \"UPS\", \"AMT\", \"AAPL\", \"NEE\"]\n",
    "\n",
    "# Download historical data from Yahoo Finance\n",
    "data = yf.download(tickers, start=\"2019-02-01\", end=\"2021-12-30\")\n",
    "\n",
    "# Filter the \"Adj Close\" column for daily returns\n",
    "returns = data[\"Adj Close\"].pct_change()\n",
    "\n",
    "# Define a dictionary with ticker and company names\n",
    "companies = {\n",
    "    \"BHP.AX\": \"BHP Group Limited\",\n",
    "    \"GOOGL\": \"Alphabet.com, Inc.\",\n",
    "    \"AMZN\": \"Amazon.com, Inc.\",\n",
    "    \"WMT\": \"Walmart Inc.\",\n",
    "    \"XOM\": \"Exxon Mobil Corporation\",\n",
    "    \"BRK-A\": \"Berkshire Hathaway Inc.\",\n",
    "    \"UNH\": \"UnitedHealth Group Incorporated\",\n",
    "    \"UPS\": \"United Parcel Service, Inc.\",\n",
    "    \"AMT\": \"American Tower Corporation\",\n",
    "    \"AAPL\": \"Apple Inc.\",\n",
    "    \"NEE\": \"NextEra Energy, Inc.\"\n",
    "}"
   ]
  },
  {
   "cell_type": "code",
   "execution_count": null,
   "id": "36059744",
   "metadata": {},
   "outputs": [],
   "source": [
    "table = PrettyTable()\n",
    "table.field_names = [\"Ticker\", \"Company Name\", \"Market Cap\", \"Industry\"]"
   ]
  },
  {
   "cell_type": "code",
   "execution_count": null,
   "id": "59ccb918",
   "metadata": {},
   "outputs": [],
   "source": [
    "for ticker in returns.columns:\n",
    "    company_name = companies.get(ticker, \"N/A\")\n",
    "    market_cap = yf.Ticker(ticker).info.get(\"marketCap\", \"N/A\")\n",
    "    industry = yf.Ticker(ticker).info.get(\"industry\", \"N/A\")\n",
    "    table.add_row([ticker, company_name, market_cap, industry])\n",
    "\n",
    "# Display the table\n",
    "display(table)"
   ]
  },
  {
   "cell_type": "code",
   "execution_count": null,
   "id": "5894cbcf",
   "metadata": {},
   "outputs": [],
   "source": [
    "from scipy.stats import skew, kurtosis\n",
    "table = PrettyTable()\n",
    "table.field_names = [\"Stock\", \"Max\", \"Min\", \"Mean\", \"Standard Deviation\", \"Cumulative Return\", \"Skewness\", \"Kurtosis\"]\n",
    "\n",
    "# Populate the table with data\n",
    "for ticker in returns.columns:\n",
    "    stock_name = companies.get(ticker, \"N/A\")\n",
    "    max_return = returns[ticker].max()\n",
    "    min_return = returns[ticker].min()\n",
    "    mean_return = returns[ticker].mean()\n",
    "    std_return = returns[ticker].std()\n",
    "    cumulative_return = (1 + returns[ticker]).cumprod()[-1] - 1\n",
    "    skewness = skew(returns[ticker].dropna())\n",
    "    kurt = kurtosis(returns[ticker].dropna())\n",
    "    \n",
    "    table.add_row([stock_name[:20], f\"{max_return:.4f}\", f\"{min_return:.4f}\", f\"{mean_return:.4f}\", f\"{std_return:.4f}\",\n",
    "                   f\"{cumulative_return:.4f}\", f\"{skewness:.4f}\", f\"{kurt:.4f}\"])\n",
    "\n",
    "# Display the table\n",
    "display(table)"
   ]
  },
  {
   "cell_type": "code",
   "execution_count": null,
   "id": "7264711c",
   "metadata": {},
   "outputs": [],
   "source": []
  },
  {
   "cell_type": "code",
   "execution_count": null,
   "id": "545bb68f",
   "metadata": {},
   "outputs": [],
   "source": []
  },
  {
   "cell_type": "code",
   "execution_count": null,
   "id": "82a46d01",
   "metadata": {},
   "outputs": [],
   "source": []
  }
 ],
 "metadata": {
  "kernelspec": {
   "display_name": "Python 3 (ipykernel)",
   "language": "python",
   "name": "python3"
  },
  "language_info": {
   "codemirror_mode": {
    "name": "ipython",
    "version": 3
   },
   "file_extension": ".py",
   "mimetype": "text/x-python",
   "name": "python",
   "nbconvert_exporter": "python",
   "pygments_lexer": "ipython3",
   "version": "3.9.12"
  }
 },
 "nbformat": 4,
 "nbformat_minor": 5
}
