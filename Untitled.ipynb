{
 "cells": [
  {
   "cell_type": "code",
   "execution_count": 19,
   "id": "959c6026",
   "metadata": {},
   "outputs": [],
   "source": [
    "import yfinance as yf\n",
    "import pandas as pd\n",
    "from sklearn.linear_model import LinearRegression"
   ]
  },
  {
   "cell_type": "code",
   "execution_count": 22,
   "id": "ca2b0e99",
   "metadata": {},
   "outputs": [
    {
     "name": "stdout",
     "output_type": "stream",
     "text": [
      "[*********************100%***********************]  1 of 1 completed\n",
      "[*********************100%***********************]  1 of 1 completed\n",
      "[*********************100%***********************]  1 of 1 completed\n",
      "[*********************100%***********************]  1 of 1 completed\n"
     ]
    }
   ],
   "source": [
    "# Download data from yfinance\n",
    "stocks = ['AAPL', 'MSFT', 'GOOG', 'AMZN']\n",
    "data = pd.DataFrame()\n",
    "for stock in stocks:\n",
    "    stock_data = yf.download(stock, start='2019-01-01', end='2022-01-01')\n",
    "    stock_data = stock_data[['Close', 'Volume']]  # Select relevant columns\n",
    "    stock_data.columns = [f'{stock}_{col}' for col in stock_data.columns]  # Rename columns with stock name\n",
    "    data = pd.concat([data, stock_data], axis=1)  # Concatenate data for all stocks\n",
    "\n",
    "# Preprocess the data\n",
    "data = data.fillna(method='ffill')  # Forward fill missing values\n",
    "data = (data - data.mean()) / data.std()  # Standardize the data"
   ]
  },
  {
   "cell_type": "code",
   "execution_count": 24,
   "id": "e654ddf2",
   "metadata": {},
   "outputs": [],
   "source": [
    "# Train regression models\n",
    "returns_model = LinearRegression()\n",
    "risk_model = LinearRegression()\n",
    "\n",
    "X = data.drop(columns=[f'{stock}_Close' for stock in stocks])\n",
    "for stock in stocks:\n",
    "    returns_col = f'{stock}_Close'\n",
    "    returns_model.fit(X, data[returns_col])\n",
    "    risk_col = f'{stock}_Volume'\n",
    "    risk_model.fit(X, data[risk_col])"
   ]
  },
  {
   "cell_type": "code",
   "execution_count": null,
   "id": "0fff7608",
   "metadata": {},
   "outputs": [],
<<<<<<< HEAD
<<<<<<< HEAD
<<<<<<< HEAD
<<<<<<< HEAD
=======

