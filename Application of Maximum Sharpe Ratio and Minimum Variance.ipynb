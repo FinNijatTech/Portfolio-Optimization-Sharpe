{
 "cells": [
  {
   "cell_type": "code",
   "execution_count": null,
   "id": "3801e8f3",
   "metadata": {},
   "outputs": [],
   "source": [
    "import pandas as pd\n",
    "import numpy as np\n",
    "import yfinance as yf\n",
    "from scipy.optimize import minimize\n",
    "from prettytable import PrettyTable\n",
    "from IPython.display import display"
   ]
  },
  {
   "cell_type": "code",
   "execution_count": null,
   "id": "a90356e5",
   "metadata": {},
   "outputs": [],
   "source": [
    "tickers = [\"BHP.AX\", \"GOOGL\", \"AMZN\", \"WMT\", \"XOM\", \"BRK-A\", \"UNH\", \"UPS\", \"AMT\", \"AAPL\", \"NEE\"]\n",
    "\n",
    "# Download historical data from Yahoo Finance\n",
    "data = yf.download(tickers, start=\"2019-02-01\", end=\"2021-12-30\")\n",
    "\n",
    "# Filter the \"Adj Close\" column for daily returns\n",
    "returns = data[\"Adj Close\"].pct_change()\n",
    "\n",
    "# Define a dictionary with ticker and company names\n",
    "companies = {\n",
    "    \"BHP.AX\": \"BHP Group Limited\",\n",
    "    \"GOOGL\": \"Alphabet.com, Inc.\",\n",
    "    \"AMZN\": \"Amazon.com, Inc.\",\n",
    "    \"WMT\": \"Walmart Inc.\",\n",
    "    \"XOM\": \"Exxon Mobil Corporation\",\n",
    "    \"BRK-A\": \"Berkshire Hathaway Inc.\",\n",
    "    \"UNH\": \"UnitedHealth Group Incorporated\",\n",
    "    \"UPS\": \"United Parcel Service, Inc.\",\n",
    "    \"AMT\": \"American Tower Corporation\",\n",
    "    \"AAPL\": \"Apple Inc.\",\n",
    "    \"NEE\": \"NextEra Energy, Inc.\"\n",
    "}"
   ]
  },
  {
   "cell_type": "code",
   "execution_count": null,
   "id": "c08a91cc",
   "metadata": {},
   "outputs": [],
   "source": []
  },
  {
   "cell_type": "code",
   "execution_count": null,
   "id": "5c848cad",
   "metadata": {},
   "outputs": [],
   "source": []
  },
  {
   "cell_type": "code",
   "execution_count": null,
   "id": "8ef82c5d",
   "metadata": {},
   "outputs": [],
   "source": []
  },
  {
   "cell_type": "code",
   "execution_count": null,
   "id": "311af2a8",
   "metadata": {},
   "outputs": [],
   "source": []
  },
  {
   "cell_type": "code",
   "execution_count": null,
   "id": "85a26463",
   "metadata": {},
   "outputs": [],
   "source": []
  },
  {
   "cell_type": "code",
   "execution_count": null,
   "id": "a7014497",
   "metadata": {},
   "outputs": [],
   "source": []
  }
 ],
 "metadata": {
  "kernelspec": {
   "display_name": "Python 3 (ipykernel)",
   "language": "python",
   "name": "python3"
  },
  "language_info": {
   "codemirror_mode": {
    "name": "ipython",
    "version": 3
   },
   "file_extension": ".py",
   "mimetype": "text/x-python",
   "name": "python",
   "nbconvert_exporter": "python",
   "pygments_lexer": "ipython3",
   "version": "3.9.12"
  }
 },
 "nbformat": 4,
 "nbformat_minor": 5
}
