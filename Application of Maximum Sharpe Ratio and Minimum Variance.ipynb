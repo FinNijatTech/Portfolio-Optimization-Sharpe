{
 "cells": [
  {
   "cell_type": "code",
   "execution_count": 1,
   "id": "07b07347",
   "metadata": {},
   "outputs": [],
   "source": [
    "## 1 we need to download all needed libraries\n",
    "\n",
    "import pandas as pd\n",
    "import numpy as np\n",
    "import yfinance as yf\n",
    "from scipy.optimize import minimize"
   ]
  },
  {
   "cell_type": "code",
   "execution_count": 7,
   "id": "1192088b",
   "metadata": {},
   "outputs": [
    {
     "name": "stdout",
     "output_type": "stream",
     "text": [
      "[*********************100%***********************]  11 of 11 completed\n"
     ]
    }
   ],
   "source": [
    "## 2 we need to define the data that we want to use, and here we will use yfinance and stocks that were used in the paper\n",
    "stocks = ['AAPL', 'MSFT', 'GOOGL', 'AMZN', 'JPM', 'V', 'PG', 'JNJ', 'UNH', 'MA', 'INTC']\n",
    "start_date = '2019-01-02'\n",
    "end_date = '2021-12-30'\n",
    "\n",
    "stock_data = yf.download(stocks, start=start_date, end=end_date)\n",
    "stock_prices = stock_data['Adj Close']\n"
   ]
  },
  {
   "cell_type": "code",
   "execution_count": 14,
   "id": "f4db9928",
   "metadata": {},
   "outputs": [
    {
     "name": "stdout",
     "output_type": "stream",
     "text": [
      "                 AAPL       AMZN      GOOGL       INTC         JNJ        JPM  \\\n",
      "Date                                                                            \n",
      "2019-01-02  37.994495  76.956497  52.734001  41.343922  113.289452  86.554718   \n",
      "2019-01-03  34.209961  75.014000  51.273499  39.069481  111.489220  85.324585   \n",
      "2019-01-04  35.670353  78.769501  53.903500  41.466866  113.360374  88.470131   \n",
      "2019-01-07  35.590965  81.475502  53.796001  41.660057  112.633194  88.531631   \n",
      "2019-01-08  36.269440  82.829002  54.268501  41.923512  115.249283  88.364685   \n",
      "\n",
      "                    MA       MSFT         PG         UNH           V  \n",
      "Date                                                                  \n",
      "2019-01-02  185.082962  96.421883  81.445831  228.546417  128.979111  \n",
      "2019-01-03  176.733063  92.874702  80.874771  222.313919  124.331146  \n",
      "2019-01-04  185.102463  97.194229  82.525444  224.913895  129.687500  \n",
      "2019-01-07  186.526627  97.318199  82.195335  225.345688  132.026031  \n",
      "2019-01-08  187.884872  98.023804  82.498695  228.358643  132.744080  \n"
     ]
    }
   ],
   "source": [
    "stock_prices = pd.DataFrame(stock_prices)\n",
    "print(stock_prices.head())"
   ]
  },
  {
   "cell_type": "code",
   "execution_count": 10,
   "id": "93968ea1",
   "metadata": {},
   "outputs": [],
   "source": [
    "## 3 now we calculate the return but it will be daily as it is in the paper. For NaN values it is better to use \n",
    "##ffill() the last value,  instead of dropna()\n",
    "returns = stock_prices.pct_change().ffill()\n"
   ]
  },
  {
   "cell_type": "code",
   "execution_count": 11,
   "id": "aeb1cf97",
   "metadata": {},
   "outputs": [
    {
     "name": "stdout",
     "output_type": "stream",
     "text": [
      "                AAPL      AMZN     GOOGL      INTC       JNJ       JPM  \\\n",
      "Date                                                                     \n",
      "2019-01-02       NaN       NaN       NaN       NaN       NaN       NaN   \n",
      "2019-01-03 -0.099607 -0.025241 -0.027696 -0.055013 -0.015891 -0.014212   \n",
      "2019-01-04  0.042689  0.050064  0.051294  0.061362  0.016783  0.036866   \n",
      "2019-01-07 -0.002226  0.034353 -0.001994  0.004659 -0.006415  0.000695   \n",
      "2019-01-08  0.019063  0.016612  0.008783  0.006324  0.023227 -0.001886   \n",
      "...              ...       ...       ...       ...       ...       ...   \n",
      "2021-12-22  0.015319  0.003638  0.020509  0.003939  0.004306  0.003908   \n",
      "2021-12-23  0.003644  0.000184  0.003425  0.006671  0.001906  0.003574   \n",
      "2021-12-27  0.022975 -0.008178  0.006738  0.012278  0.008440  0.005723   \n",
      "2021-12-28 -0.005767  0.005844 -0.008245 -0.003466  0.004008  0.003035   \n",
      "2021-12-29  0.000502 -0.008555 -0.000218  0.001353  0.007044 -0.000504   \n",
      "\n",
      "                  MA      MSFT        PG       UNH         V  \n",
      "Date                                                          \n",
      "2019-01-02       NaN       NaN       NaN       NaN       NaN  \n",
      "2019-01-03 -0.045114 -0.036788 -0.007012 -0.027270 -0.036037  \n",
      "2019-01-04  0.047356  0.046509  0.020410  0.011695  0.043081  \n",
      "2019-01-07  0.007694  0.001275 -0.004000  0.001920  0.018032  \n",
      "2019-01-08  0.007282  0.007250  0.003691  0.013370  0.005439  \n",
      "...              ...       ...       ...       ...       ...  \n",
      "2021-12-22  0.019217  0.018057  0.009889  0.014203  0.011979  \n",
      "2021-12-23  0.008672  0.004472  0.004896  0.002530 -0.006148  \n",
      "2021-12-27 -0.000749  0.023186  0.011680  0.008317  0.004663  \n",
      "2021-12-28  0.001304 -0.003504  0.005371  0.006887  0.001930  \n",
      "2021-12-29  0.001413  0.002051  0.008290  0.005249  0.000550  \n",
      "\n",
      "[755 rows x 11 columns]\n"
     ]
    }
   ],
   "source": [
    "print(returns)"
   ]
  },
  {
   "cell_type": "code",
   "execution_count": 12,
   "id": "3f48e8f7",
   "metadata": {},
   "outputs": [],
   "source": [
    "## 4 Mean Variance Optimization\n",
    "def portfolio_variance(weights, cov_matrix):\n",
    "    return np.dot(weights.T, np.dot(cov_matrix, weights))\n",
    "\n",
    "def objective_function(weights, returns, cov_matrix, risk_free_rate):\n",
    "    portfolio_return = np.dot(weights.T, returns.mean())\n",
    "    portfolio_std = np.sqrt(portfolio_variance(weights, cov_matrix))\n",
    "    sharpe_ratio = (portfolio_return - risk_free_rate) / portfolio_std\n",
    "    return -sharpe_ratio  # Negate for minimization\n",
    "\n",
    "def optimize_portfolio(returns, cov_matrix, risk_free_rate):\n",
    "    num_assets = len(returns.columns)\n",
    "    initial_weights = np.ones(num_assets) / num_assets\n",
    "    bounds = [(0, 1)] * num_assets\n",
    "    constraints = ({'type': 'eq', 'fun': lambda x: np.sum(x) - 1})\n",
    "    \n",
    "    result = minimize(\n",
    "        objective_function,\n",
    "        initial_weights,\n",
    "        args=(returns, cov_matrix, risk_free_rate),\n",
    "        method='SLSQP',\n",
    "        bounds=bounds,\n",
    "        constraints=constraints\n",
    "    )\n",
    "    \n",
    "    if result.success:\n",
    "        return result.x\n",
    "    else:\n",
    "        raise ValueError(result.message)\n",
    "\n",
    "cov_matrix = returns.cov()\n",
    "risk_free_rate = 0.02  # Example risk-free rate (2%)\n",
    "weights_msrp = optimize_portfolio(returns, cov_matrix, risk_free_rate)"
   ]
  },
  {
   "cell_type": "code",
   "execution_count": 17,
   "id": "244ddf55",
   "metadata": {},
   "outputs": [
    {
     "name": "stdout",
     "output_type": "stream",
     "text": [
      "Maximum Drawdown: nan%\n"
     ]
    }
   ],
   "source": [
    "## 5 Backtesting\n",
    "\n",
    "# Calculate portfolio cumulative returns\n",
    "portfolio_cumulative_returns = (1 + portfolio_returns).cumprod()\n",
    "\n",
    "# Calculate maximum drawdown\n",
    "previous_peaks = np.maximum.accumulate(portfolio_cumulative_returns)\n",
    "drawdown = (portfolio_cumulative_returns / previous_peaks) - 1\n",
    "maximum_drawdown = drawdown.min()\n",
    "\n",
    "# Print the maximum drawdown\n",
    "print(\"Maximum Drawdown: {:.2%}\".format(maximum_drawdown))"
   ]
  }
 ],
 "metadata": {
  "kernelspec": {
   "display_name": "Python 3 (ipykernel)",
   "language": "python",
   "name": "python3"
  },
  "language_info": {
   "codemirror_mode": {
    "name": "ipython",
    "version": 3
   },
   "file_extension": ".py",
   "mimetype": "text/x-python",
   "name": "python",
   "nbconvert_exporter": "python",
   "pygments_lexer": "ipython3",
   "version": "3.9.12"
  }
 },
 "nbformat": 4,
 "nbformat_minor": 5
}
